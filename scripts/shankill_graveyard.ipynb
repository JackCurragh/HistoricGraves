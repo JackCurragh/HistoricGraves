{
 "cells": [
  {
   "cell_type": "code",
   "execution_count": 260,
   "metadata": {},
   "outputs": [],
   "source": [
    "from docx import Document\n",
    "import pandas as pd\n"
   ]
  },
  {
   "cell_type": "markdown",
   "metadata": {},
   "source": []
  },
  {
   "cell_type": "code",
   "execution_count": 261,
   "metadata": {},
   "outputs": [
    {
     "data": {
      "text/plain": [
       "<docx.document.Document at 0x7fd8a6879540>"
      ]
     },
     "execution_count": 261,
     "metadata": {},
     "output_type": "execute_result"
    }
   ],
   "source": [
    "document = Document('../data/Shankill Graveyard headstones by number.docx')\n",
    "document"
   ]
  },
  {
   "cell_type": "code",
   "execution_count": 262,
   "metadata": {},
   "outputs": [],
   "source": [
    "allText = []\n",
    "for docpara in document.paragraphs:\n",
    "    allText.append(docpara.text)\n"
   ]
  },
  {
   "cell_type": "code",
   "execution_count": null,
   "metadata": {},
   "outputs": [],
   "source": []
  },
  {
   "cell_type": "code",
   "execution_count": 263,
   "metadata": {},
   "outputs": [
    {
     "name": "stdout",
     "output_type": "stream",
     "text": [
      "722\n",
      "720\n"
     ]
    }
   ],
   "source": [
    "all_text = ' '.join(allText)\n",
    "all_text = all_text.strip('\\n')\n",
    "ref_list = all_text.split('Ref:')\n",
    "print(len(ref_list))\n",
    "\n",
    "print(len([i for i in ref_list if i.startswith(' ')]))\n"
   ]
  },
  {
   "cell_type": "code",
   "execution_count": 264,
   "metadata": {},
   "outputs": [],
   "source": [
    "unique_ids = []\n",
    "for ref in ref_list:\n",
    "    if len(ref.split(' ')) == 1:\n",
    "        continue\n",
    "    else:\n",
    "        if '/' in ref.split(' ')[1]:\n",
    "            unique_ids.append(ref.split(' ')[1].strip('-'))\n",
    "            \n",
    "    # for idx, element in enumerate(ref.split(' ')):\n",
    "        # print(idx, element)"
   ]
  },
  {
   "cell_type": "code",
   "execution_count": 265,
   "metadata": {},
   "outputs": [],
   "source": [
    "df = pd.DataFrame(columns=['unique_id', 'surname', 'inscription'])"
   ]
  },
  {
   "cell_type": "code",
   "execution_count": 266,
   "metadata": {},
   "outputs": [],
   "source": [
    "row = []\n",
    "for idx, element in enumerate(allText):\n",
    "\n",
    "    if element.split(' ')[0].strip('\\n').startswith('Ref'):\n",
    "        element_list = element.split(' ')\n",
    "        if len(element_list) == 1:\n",
    "            id = element_list[0].split(':')[1]\n",
    "            surname = \"\"\n",
    "        else:\n",
    "            if element_list[0].startswith('Ref'):\n",
    "                id = element_list[1]\n",
    "            else:\n",
    "                if element_list[1] == '–':\n",
    "                    print(element_list[1])\n",
    "                id = element_list[0]\n",
    "            try:\n",
    "                if element_list[3] != '-':\n",
    "                    surname = element_list[3]\n",
    "                else:\n",
    "                    surname = element_list[-1]\n",
    "            except:\n",
    "                surname = element_list[-1]\n",
    "\n",
    "        inscription = \"\"\n",
    "        current_idx = idx + 1\n",
    "        try:\n",
    "            while allText[current_idx].split(' ')[0].strip('\\n') != 'Ref:':\n",
    "                if allText[current_idx].startswith('Ref'):\n",
    "                    break\n",
    "                inscription += allText[current_idx]\n",
    "                current_idx = current_idx + 1\n",
    "\n",
    "        except:\n",
    "            continue\n",
    "        inscription = inscription.replace('\\n', ' ')            \n",
    "        surname = surname.replace('\\n', ' ')            \n",
    "\n",
    "        row = pd.DataFrame({'unique_id':[id], 'surname':[surname], 'inscription':[inscription]})\n",
    "        df = pd.concat([df, row])\n"
   ]
  },
  {
   "cell_type": "code",
   "execution_count": 267,
   "metadata": {},
   "outputs": [],
   "source": [
    "df.to_csv('../data/shankill_graveyard_headstones.csv', index=False)"
   ]
  }
 ],
 "metadata": {
  "kernelspec": {
   "display_name": "Python 3.10.5 ('historicgraves')",
   "language": "python",
   "name": "python3"
  },
  "language_info": {
   "codemirror_mode": {
    "name": "ipython",
    "version": 3
   },
   "file_extension": ".py",
   "mimetype": "text/x-python",
   "name": "python",
   "nbconvert_exporter": "python",
   "pygments_lexer": "ipython3",
   "version": "3.10.5"
  },
  "orig_nbformat": 4,
  "vscode": {
   "interpreter": {
    "hash": "34a623bd2772396326a6242b8ea6434d3c7616f9d053fb06d6ef09db45f2e40d"
   }
  }
 },
 "nbformat": 4,
 "nbformat_minor": 2
}
